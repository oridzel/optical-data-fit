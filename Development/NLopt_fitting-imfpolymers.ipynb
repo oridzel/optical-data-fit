{
 "cells": [
  {
   "cell_type": "code",
   "execution_count": 1,
   "metadata": {},
   "outputs": [
    {
     "data": {
      "text/html": [
       "<style>.container { width:100% !important; }</style>"
      ],
      "text/plain": [
       "<IPython.core.display.HTML object>"
      ]
     },
     "metadata": {},
     "output_type": "display_data"
    }
   ],
   "source": [
    "import nlopt\n",
    "import numpy as np\n",
    "import pandas as pd\n",
    "import math\n",
    "import matplotlib.pyplot as plt\n",
    "from optlib import optical as opt\n",
    "import pickle\n",
    "\n",
    "np.seterr(divide='ignore', invalid='ignore')\n",
    "\n",
    "plt.rcParams.update({\n",
    "#     \"text.usetex\": True,\n",
    "    \"font.family\": \"sans-serif\",\n",
    "    \"font.sans-serif\": [\"Helvetica\"]})\n",
    "plt.rcParams['font.size'] = 16\n",
    "from IPython.core.display import display, HTML\n",
    "display(HTML(\"<style>.container { width:100% !important; }</style>\"))\n",
    "\n",
    "%matplotlib notebook"
   ]
  },
  {
   "cell_type": "code",
   "execution_count": 2,
   "metadata": {},
   "outputs": [],
   "source": [
    "xraypath = '../Henke/'\n",
    "oscpath = '../OscillatorsLibrary/'"
   ]
  },
  {
   "cell_type": "code",
   "execution_count": null,
   "metadata": {},
   "outputs": [],
   "source": [
    "fd = pd.read_csv('/Users/olgaridzel/Research/olga-optical-data/tpp_data.dat',sep='\\t',header=None)\n",
    "tpp_data = fd.values\n",
    "tpp = np.loadtxt('tpp2m_formula_newdata.dat',skiprows=1)"
   ]
  },
  {
   "cell_type": "markdown",
   "metadata": {},
   "source": [
    "*To save class object*"
   ]
  },
  {
   "cell_type": "code",
   "execution_count": 7,
   "metadata": {},
   "outputs": [],
   "source": [
    "with open(oscpath + 'Insulators/pmma_drude_no_dispersion.pkl', 'wb') as output:\n",
    "    pickle.dump(pmma_drude, output, pickle.HIGHEST_PROTOCOL)"
   ]
  },
  {
   "cell_type": "markdown",
   "metadata": {},
   "source": [
    "*To load class object*"
   ]
  },
  {
   "cell_type": "code",
   "execution_count": 71,
   "metadata": {},
   "outputs": [],
   "source": [
    "with open(oscpath + 'Insulators/PMMA_Drude_full_dispersion.pkl', 'rb') as input:\n",
    "    pmma_drude = pickle.load(input)\n",
    "pmma_drude.q_dependency = None\n",
    "pmma_drude.oscillators.alpha = 1"
   ]
  },
  {
   "cell_type": "code",
   "execution_count": 72,
   "metadata": {},
   "outputs": [],
   "source": [
    "fd = pd.read_csv('../diimfp/pmma_diimfp.dat',sep=' ',header=None)\n",
    "exp_diimfp = fd.values\n",
    "x_exp = exp_diimfp[:,0]\n",
    "y_exp = exp_diimfp[:,1]"
   ]
  },
  {
   "cell_type": "code",
   "execution_count": 73,
   "metadata": {},
   "outputs": [],
   "source": [
    "opt_ = opt.OptFit(pmma_drude, x_exp, y_exp, 1600)"
   ]
  },
  {
   "cell_type": "code",
   "execution_count": 74,
   "metadata": {},
   "outputs": [],
   "source": [
    "result = opt_.runOptimisation(maxeval = 1000, xtol_rel = 1e-6)"
   ]
  },
  {
   "cell_type": "code",
   "execution_count": 67,
   "metadata": {},
   "outputs": [],
   "source": [
    "oscOptimised = opt_.vec2Struct(result)"
   ]
  },
  {
   "cell_type": "code",
   "execution_count": 68,
   "metadata": {},
   "outputs": [
    {
     "name": "stdout",
     "output_type": "stream",
     "text": [
      "A: [23.73283783 84.45743258 50.76832541 23.8128708  33.33115837 11.34716495\n",
      " 44.06999242 56.85032065  7.92626158  9.77017969  9.51602777 10.74601839\n",
      "  9.29463095  8.04581006  7.94152265]\n",
      "Gamma: [ 1.3476009   3.33869299  2.30555997  5.264724    4.64930273  5.16709871\n",
      "  8.60038911  7.19970972 25.76025129 33.98654255 88.27899621 90.01282605\n",
      " 97.7541679  64.0352837  95.10036766]\n",
      "Omega: [ 8.18354654  9.07949504  8.99228418 13.97248565 12.63665213 14.72609874\n",
      " 26.82441266 19.3734184  30.62332549 32.14729609 35.53902167 86.22460418\n",
      " 67.11686251 97.01480835 97.60796677]\n"
     ]
    }
   ],
   "source": [
    "print(f'A: {oscOptimised.oscillators.A}')\n",
    "print(f'Gamma: {oscOptimised.oscillators.gamma}')\n",
    "print(f'Omega: {oscOptimised.oscillators.omega}')"
   ]
  },
  {
   "cell_type": "code",
   "execution_count": 69,
   "metadata": {},
   "outputs": [],
   "source": [
    "with open(oscpath + f'Insulators/{oscOptimised.name}_{oscOptimised.oscillators.model}_full_dispersion.pkl', 'wb') as output:\n",
    "    pickle.dump(oscOptimised, output, pickle.HIGHEST_PROTOCOL)"
   ]
  },
  {
   "cell_type": "code",
   "execution_count": 70,
   "metadata": {},
   "outputs": [
    {
     "data": {
      "image/png": "[encoded data removed]",
      "text/plain": [
       "<Figure size 432x288 with 1 Axes>"
      ]
     },
     "metadata": {
      "needs_background": "light"
     },
     "output_type": "display_data"
    }
   ],
   "source": [
    "oscOptimised.calculateDIIMFP(opt_.E0)\n",
    "\n",
    "plt.figure()\n",
    "plt.plot(oscOptimised.DIIMFP_E,oscOptimised.DIIMFP,label='Fit')\n",
    "plt.plot(x_exp,y_exp,label='Experimental data')\n",
    "plt.xlabel('Energy loss $\\omega$ (eV)')\n",
    "plt.ylabel('Normalised DIIMFP (eV$^{-1}$)')\n",
    "plt.title(f'{oscOptimised.name} {oscOptimised.oscillators.model}')\n",
    "plt.legend()\n",
    "plt.xlim(0,100)\n",
    "plt.show()"
   ]
  },
  {
   "cell_type": "code",
   "execution_count": 26,
   "metadata": {},
   "outputs": [
    {
     "name": "stdout",
     "output_type": "stream",
     "text": [
      "FSum = 3.3953550334984537\n",
      "Z = 3.6\n",
      "KKSum = 1.137248409514163\n"
     ]
    }
   ],
   "source": [
    "fsum = oscOptimised.evaluateFsum()\n",
    "print('FSum = {}'.format(fsum))\n",
    "print('Z = {}'.format(oscOptimised.Z))\n",
    "\n",
    "kksum = oscOptimised.evaluateKKsum()\n",
    "print('KKSum = {}'.format(kksum))"
   ]
  },
  {
   "cell_type": "code",
   "execution_count": 15,
   "metadata": {},
   "outputs": [],
   "source": [
    "with open(oscpath + 'Insulators/pmma_drude_no_dispersion.pkl', 'rb') as input:\n",
    "    pmma_drude_no_dispersion = pickle.load(input)\n",
    "with open(oscpath + 'Insulators/pmma_drude_full_dispersion.pkl', 'rb') as input:\n",
    "    pmma_drude_full_dispersion = pickle.load(input)\n",
    "\n",
    "E0 = np.hstack((opt.linspace(20,50),opt.linspace(60,100,10),opt.linspace(200,500,100),opt.linspace(1000,5000,1000)))\n",
    "\n",
    "oscOptimised.calculateIMFP(E0,isMetal=False)\n",
    "pmma_drude_no_dispersion.calculateIMFP(E0,isMetal=False)\n",
    "pmma_drude_full_dispersion.calculateIMFP(E0,isMetal=False)"
   ]
  },
  {
   "cell_type": "code",
   "execution_count": 17,
   "metadata": {},
   "outputs": [
    {
     "data": {
      "image/png": "[encoded data removed]",
      "text/plain": [
       "<Figure size 432x288 with 1 Axes>"
      ]
     },
     "metadata": {
      "needs_background": "light"
     },
     "output_type": "display_data"
    }
   ],
   "source": [
    "plt.figure()\n",
    "plt.plot(E0, pmma_drude_full_dispersion.IMFP,label='Full dispersion $\\\\alpha = 1$',color='tab:blue')\n",
    "plt.plot(E0, pmma_drude_no_dispersion.IMFP,label='No dispersion $\\\\alpha = 0$',color='tab:red')\n",
    "plt.plot(E0, oscOptimised.IMFP,label='With q-dependency',color='black')\n",
    "# plt.plot(tpp_data[:,0],tpp_data[:,12],'o',label='TPP data',color='tab:gray')\n",
    "plt.xlabel('Energy (eV)')\n",
    "plt.ylabel('IMFP ($\\mathrm{\\AA}$)')\n",
    "plt.yscale('log')\n",
    "plt.xscale('log')\n",
    "plt.legend()\n",
    "plt.title(f'{oscOptimised.name} {oscOptimised.oscillators.model}')\n",
    "plt.show()"
   ]
  },
  {
   "cell_type": "code",
   "execution_count": 24,
   "metadata": {},
   "outputs": [],
   "source": [
    "plt.savefig('pmma_imfp.png', dpi=600)"
   ]
  },
  {
   "cell_type": "code",
   "execution_count": null,
   "metadata": {},
   "outputs": [],
   "source": []
  },
  {
   "cell_type": "code",
   "execution_count": null,
   "metadata": {},
   "outputs": [],
   "source": [
    "fd = pd.read_csv('../MATLAB/organic/dna/dna_physdat_die.txt',header=None,sep=' ')\n",
    "exp_elf = fd.values\n",
    "oscOptimised.calculateELF()\n",
    "\n",
    "plt.figure()\n",
    "plt.plot(oscOptimised.eloss,oscOptimised.ELF,label='Fit')\n",
    "plt.plot(exp_elf[:,0],exp_elf[:,3],label='Literature')\n",
    "plt.xlabel('Energy loss $\\omega$ (eV)')\n",
    "plt.ylabel('ELF')\n",
    "plt.title(f'{oscOptimised.name} {oscOptimised.oscillators.model}')\n",
    "plt.xlim(0,100)\n",
    "plt.legend()\n",
    "plt.show()"
   ]
  },
  {
   "cell_type": "code",
   "execution_count": null,
   "metadata": {},
   "outputs": [],
   "source": []
  },
  {
   "cell_type": "markdown",
   "metadata": {},
   "source": [
    "**PTFE**"
   ]
  },
  {
   "cell_type": "code",
   "execution_count": 50,
   "metadata": {},
   "outputs": [],
   "source": [
    "with open(oscpath + 'Insulators/ptfe_drude.pkl', 'rb') as input:\n",
    "    ptfe_drude = pickle.load(input)\n",
    "ptfe_drude.q_dependency = 1\n",
    "ptfe_drude.oscillators.alpha = 0.15"
   ]
  },
  {
   "cell_type": "code",
   "execution_count": 51,
   "metadata": {},
   "outputs": [],
   "source": [
    "fd = pd.read_csv('../diimfp/ptfe_diimfp.dat',sep=' ',header=None)\n",
    "exp_diimfp = fd.values\n",
    "x_exp = exp_diimfp[:,0]\n",
    "y_exp = exp_diimfp[:,1]"
   ]
  },
  {
   "cell_type": "code",
   "execution_count": 52,
   "metadata": {},
   "outputs": [],
   "source": [
    "opt_ptfe = opt.OptFit(ptfe_drude, x_exp, y_exp, 1600)"
   ]
  },
  {
   "cell_type": "code",
   "execution_count": 53,
   "metadata": {},
   "outputs": [],
   "source": [
    "result_ptfe = opt_ptfe.runOptimisation(maxeval=1000)"
   ]
  },
  {
   "cell_type": "code",
   "execution_count": 54,
   "metadata": {},
   "outputs": [],
   "source": [
    "oscOptimised_ptfe = opt_ptfe.vec2Struct(result_ptfe)"
   ]
  },
  {
   "cell_type": "code",
   "execution_count": 55,
   "metadata": {},
   "outputs": [
    {
     "name": "stdout",
     "output_type": "stream",
     "text": [
      "A: [  1.55590216   8.36971367  62.99903328  12.02308477  45.87379102\n",
      " 121.08991641 150.45140478 130.31109845 115.40971219]\n",
      "Gamma: [ 0.64167873  0.75184168  3.37919241  3.54644884  3.75590504 13.07882415\n",
      " 22.43574088 32.06070904 99.29672567]\n",
      "Omega: [  7.65154374  11.09429699  13.84977955  12.02822672  18.86735043\n",
      "  25.30594404  38.93221155  58.84018472 142.54994595]\n"
     ]
    }
   ],
   "source": [
    "print(f'A: {oscOptimised_ptfe.oscillators.A}')\n",
    "print(f'Gamma: {oscOptimised_ptfe.oscillators.gamma}')\n",
    "print(f'Omega: {oscOptimised_ptfe.oscillators.omega}')"
   ]
  },
  {
   "cell_type": "code",
   "execution_count": 56,
   "metadata": {},
   "outputs": [],
   "source": [
    "with open(oscpath + f'Insulators/{oscOptimised_ptfe.name}_{oscOptimised_ptfe.oscillators.model}_q_dispersion.pkl', 'wb') as output:\n",
    "    pickle.dump(oscOptimised_ptfe, output, pickle.HIGHEST_PROTOCOL)"
   ]
  },
  {
   "cell_type": "code",
   "execution_count": 57,
   "metadata": {},
   "outputs": [
    {
     "data": {
      "image/png": "[encoded data removed]",
      "text/plain": [
       "<Figure size 432x288 with 1 Axes>"
      ]
     },
     "metadata": {
      "needs_background": "light"
     },
     "output_type": "display_data"
    }
   ],
   "source": [
    "oscOptimised_ptfe.calculateDIIMFP(opt_.E0)\n",
    "\n",
    "plt.figure()\n",
    "plt.plot(oscOptimised_ptfe.DIIMFP_E,oscOptimised_ptfe.DIIMFP,label='Fit')\n",
    "plt.plot(x_exp,y_exp,label='Experimental data')\n",
    "plt.xlabel('Energy loss $\\omega$ (eV)')\n",
    "plt.ylabel('Normalised DIIMFP (eV$^{-1}$)')\n",
    "plt.title(f'{oscOptimised_ptfe.name} {oscOptimised_ptfe.oscillators.model}')\n",
    "plt.legend()\n",
    "plt.xlim(0,100)\n",
    "plt.show()"
   ]
  },
  {
   "cell_type": "code",
   "execution_count": 58,
   "metadata": {},
   "outputs": [
    {
     "name": "stdout",
     "output_type": "stream",
     "text": [
      "FSum = 7.448485645366241\n",
      "Z = 8\n",
      "KKSum = 1.009724429590669\n"
     ]
    }
   ],
   "source": [
    "fsum = oscOptimised_ptfe.evaluateFsum()\n",
    "print('FSum = {}'.format(fsum))\n",
    "print('Z = {}'.format(oscOptimised_ptfe.Z))\n",
    "\n",
    "kksum = oscOptimised_ptfe.evaluateKKsum()\n",
    "print('KKSum = {}'.format(kksum))"
   ]
  },
  {
   "cell_type": "code",
   "execution_count": 59,
   "metadata": {},
   "outputs": [],
   "source": [
    "with open(oscpath + 'Insulators/ptfe_drude_no_dispersion.pkl', 'rb') as input:\n",
    "    ptfe_drude_no_dispersion = pickle.load(input)\n",
    "with open(oscpath + 'Insulators/PTFE_Drude_full_dispersion.pkl', 'rb') as input:\n",
    "    ptfe_drude_full_dispersion = pickle.load(input)\n",
    "\n",
    "E0 = np.hstack((opt.linspace(20,50),opt.linspace(60,100,10),opt.linspace(200,500,100),opt.linspace(1000,5000,1000)))\n",
    "\n",
    "oscOptimised_ptfe.calculateIMFP(E0,isMetal=False)\n",
    "ptfe_drude_no_dispersion.calculateIMFP(E0,isMetal=False)\n",
    "ptfe_drude_full_dispersion.calculateIMFP(E0,isMetal=False)"
   ]
  },
  {
   "cell_type": "code",
   "execution_count": 60,
   "metadata": {},
   "outputs": [
    {
     "data": {
      "image/png": "[encoded data removed]",
      "text/plain": [
       "<Figure size 432x288 with 1 Axes>"
      ]
     },
     "metadata": {
      "needs_background": "light"
     },
     "output_type": "display_data"
    }
   ],
   "source": [
    "plt.figure()\n",
    "plt.plot(E0, ptfe_drude_full_dispersion.IMFP,label='Full dispersion $\\\\alpha = 1$',color='tab:blue')\n",
    "plt.plot(E0, ptfe_drude_no_dispersion.IMFP,label='No dispersion $\\\\alpha = 0$',color='tab:red')\n",
    "plt.plot(E0, oscOptimised_ptfe.IMFP,label='With q-dependency',color='black')\n",
    "# plt.plot(tpp[:,0],tpp[:,1],'o',label='TPP data',color='tab:gray')\n",
    "plt.xlabel('Energy (eV)')\n",
    "plt.ylabel('IMFP ($\\mathrm{\\AA}$)')\n",
    "plt.yscale('log')\n",
    "plt.xscale('log')\n",
    "plt.legend()\n",
    "plt.title(f'{oscOptimised.name} {oscOptimised.oscillators.model}')\n",
    "plt.show()"
   ]
  },
  {
   "cell_type": "code",
   "execution_count": null,
   "metadata": {},
   "outputs": [],
   "source": [
    "plt.savefig('ptfe_imfp.png',dpi=600)"
   ]
  },
  {
   "cell_type": "markdown",
   "metadata": {},
   "source": [
    "**Al**"
   ]
  },
  {
   "cell_type": "code",
   "execution_count": null,
   "metadata": {},
   "outputs": [],
   "source": [
    "A = [210]\n",
    "gamma = [0.53]\n",
    "omega = [3]\n",
    "oscillators = opt.Oscillators('Drude', A, gamma, omega, alpha = 0.3)\n",
    "composition = opt.Composition(['al'], [1])\n",
    "eloss = opt.linspace(opt.machine_eps,100,0.7)\n",
    "q = 0\n",
    "\n",
    "M = 26.9815386 # Molar weight\n",
    "rho = 2.6989 # g/cm3\n",
    "N_Avogadro = 6.02217e23 \n",
    "\n",
    "al_drude = opt.Material('Al', oscillators, composition, eloss, q, xraypath)\n",
    "al_drude.Ef = 11.2\n",
    "al_drude.atomic_density = rho * N_Avogadro / M *1e-24\n",
    "al_drude.static_refractive_index = 1.15\n",
    "al_drude.electron_density = 0.2249\n",
    "al_drude.omega_pl = np.sqrt(4*math.pi*al_drude.electron_density*opt.a0**3) * opt.h2ev\n",
    "al_drude.Z = 13\n",
    "al_drude.q_dependency = None"
   ]
  },
  {
   "cell_type": "code",
   "execution_count": null,
   "metadata": {},
   "outputs": [],
   "source": [
    "fd = pd.read_csv('al_diimfp.dat',sep=' ',header=None)\n",
    "exp_diimfp = fd.values\n",
    "x_exp = exp_diimfp[:,0]\n",
    "y_exp = exp_diimfp[:,1]"
   ]
  },
  {
   "cell_type": "code",
   "execution_count": null,
   "metadata": {},
   "outputs": [],
   "source": [
    "opt_al = opt.OptFit(al_drude, x_exp, y_exp, 3400)"
   ]
  },
  {
   "cell_type": "code",
   "execution_count": null,
   "metadata": {},
   "outputs": [],
   "source": [
    "result_al = opt_al.runOptimisation()"
   ]
  },
  {
   "cell_type": "code",
   "execution_count": null,
   "metadata": {},
   "outputs": [],
   "source": [
    "oscOptimised_al = opt_al.vec2Struct(result_al)"
   ]
  },
  {
   "cell_type": "code",
   "execution_count": null,
   "metadata": {},
   "outputs": [],
   "source": [
    "print(f'A: {oscOptimised_al.oscillators.A}')\n",
    "print(f'Gamma: {oscOptimised_al.oscillators.gamma}')\n",
    "print(f'Omega: {oscOptimised_al.oscillators.omega}')"
   ]
  },
  {
   "cell_type": "code",
   "execution_count": null,
   "metadata": {},
   "outputs": [],
   "source": [
    "oscOptimised_al.calculateDIIMFP(opt_al.E0)\n",
    "\n",
    "plt.figure()\n",
    "plt.plot(oscOptimised_al.DIIMFP_E,oscOptimised_al.DIIMFP,label='Fit')\n",
    "plt.plot(x_exp,y_exp,label='Experimental data')\n",
    "plt.xlabel('Energy loss $\\omega$ (eV)')\n",
    "plt.ylabel('Normalised DIIMFP (eV$^{-1}$)')\n",
    "plt.title(f'{oscOptimised_al.name} {oscOptimised_al.oscillators.model}')\n",
    "plt.legend()\n",
    "plt.xlim(0,100)\n",
    "plt.show()"
   ]
  },
  {
   "cell_type": "code",
   "execution_count": null,
   "metadata": {},
   "outputs": [],
   "source": [
    "fsum = oscOptimised_al.evaluateFsum()\n",
    "print('FSum = {}'.format(fsum))\n",
    "print('Z = {}'.format(oscOptimised_al.Z))\n",
    "\n",
    "kksum = oscOptimised_al.evaluateKKsum()\n",
    "print('KKSum = {}'.format(kksum))"
   ]
  },
  {
   "cell_type": "code",
   "execution_count": null,
   "metadata": {},
   "outputs": [],
   "source": []
  }
 ],
 "metadata": {
  "kernelspec": {
   "display_name": "Python 3",
   "language": "python",
   "name": "python3"
  },
  "language_info": {
   "codemirror_mode": {
    "name": "ipython",
    "version": 3
   },
   "file_extension": ".py",
   "mimetype": "text/x-python",
   "name": "python",
   "nbconvert_exporter": "python",
   "pygments_lexer": "ipython3",
   "version": "3.7.3"
  }
 },
 "nbformat": 4,
 "nbformat_minor": 4
}
